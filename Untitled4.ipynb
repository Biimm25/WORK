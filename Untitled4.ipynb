{
  "nbformat": 4,
  "nbformat_minor": 0,
  "metadata": {
    "colab": {
      "provenance": [],
      "include_colab_link": true
    },
    "kernelspec": {
      "name": "python3",
      "display_name": "Python 3"
    },
    "language_info": {
      "name": "python"
    }
  },
  "cells": [
    {
      "cell_type": "markdown",
      "metadata": {
        "id": "view-in-github",
        "colab_type": "text"
      },
      "source": [
        "<a href=\"https://colab.research.google.com/github/Biimm25/WORK/blob/main/Untitled4.ipynb\" target=\"_parent\"><img src=\"https://colab.research.google.com/assets/colab-badge.svg\" alt=\"Open In Colab\"/></a>"
      ]
    },
    {
      "cell_type": "code",
      "source": [
        "import sympy as sp\n",
        "\n",
        "# Define the symbol\n",
        "x = sp.symbols('x')\n",
        "\n",
        "# Define the function\n",
        "f = x**2 - x - 2\n",
        "\n",
        "# Differentiate the function\n",
        "f_prime = sp.diff(f, x)\n",
        "\n",
        "print(f\"The derivative of {f} is {f_prime}\")"
      ],
      "metadata": {
        "id": "W31LSAZhzG60"
      },
      "execution_count": null,
      "outputs": []
    },
    {
      "cell_type": "code",
      "source": [],
      "metadata": {
        "id": "UfCu3FNK8Lb2"
      },
      "execution_count": null,
      "outputs": []
    },
    {
      "cell_type": "code",
      "source": [
        "import sympy as sp\n",
        "\n",
        "# Define the symbol\n",
        "x = sp.symbols('x')\n",
        "\n",
        "# Define the function\n",
        "f = x**2 - x - 2\n",
        "\n",
        "# Differentiate the function\n",
        "f_prime = sp.diff(f, x)\n",
        "\n",
        "print(f\"The derivative of {f} is {f_prime}\")"
      ],
      "metadata": {
        "id": "9wGTIpIozQ8d"
      },
      "execution_count": null,
      "outputs": []
    },
    {
      "cell_type": "code",
      "source": [
        "import scipy.integrate as spi\n",
        "import numpy as np\n",
        "\n",
        "# Define the function\n",
        "def f(x):\n",
        "    return x**2 - x - 2\n",
        "\n",
        "# Integrate the function from 1 to 3\n",
        "integral, error = spi.quad(f, 1, 3)\n",
        "\n",
        "print(f\"The integral of the function from 1 to 3 is {integral} with an error of {error}\")"
      ],
      "metadata": {
        "id": "oNPzxr8izgNG"
      },
      "execution_count": null,
      "outputs": []
    },
    {
      "cell_type": "code",
      "source": [
        "import numpy as np\n",
        "import matplotlib.pyplot as plt\n",
        "from scipy.interpolate import splrep, splev\n",
        "\n",
        "# Sample data\n",
        "x = np.array([1, 2, 3, 4, 5])\n",
        "y = np.array([1, 4, 9, 16, 25])\n",
        "\n",
        "# Perform spline interpolation\n",
        "spline = splrep(x, y)\n",
        "x_new = np.linspace(1, 5, 100)\n",
        "y_new = splev(x_new, spline)\n",
        "\n",
        "# Plot the data and the spline interpolation\n",
        "plt.scatter(x, y, label='Data')\n",
        "plt.plot(x_new, y_new, label='Spline interpolation', color='red')\n",
        "plt.legend()\n",
        "plt.show()"
      ],
      "metadata": {
        "id": "KJGseS49zkwn"
      },
      "execution_count": null,
      "outputs": []
    },
    {
      "cell_type": "code",
      "source": [
        "import numpy as np\n",
        "import matplotlib.pyplot as plt\n",
        "from scipy.interpolate import splrep, splev\n",
        "\n",
        "# Sample data\n",
        "x = np.array([1, 2, 3, 4, 5])\n",
        "y = np.array([1, 4, 9, 16, 25])\n",
        "\n",
        "# Perform spline interpolation\n",
        "spline = splrep(x, y)\n",
        "x_new = np.linspace(1, 5, 100)\n",
        "y_new = splev(x_new, spline)\n",
        "\n",
        "# Plot the data and the spline interpolation\n",
        "plt.scatter(x, y, label='Data')\n",
        "plt.plot(x_new, y_new, label='Spline interpolation', color='red')\n",
        "plt.legend()\n",
        "plt.show()"
      ],
      "metadata": {
        "id": "3aMzwnXGztTw"
      },
      "execution_count": null,
      "outputs": []
    },
    {
      "cell_type": "code",
      "source": [
        "import numpy as np\n",
        "import matplotlib.pyplot as plt\n",
        "\n",
        "# Signal parameters\n",
        "f1 = 50  # Frequency of first sine wave\n",
        "f2 = 120  # Frequency of second sine wave\n",
        "fs = 1000  # Sampling frequency\n",
        "T = 1  # Duration in seconds\n",
        "\n",
        "# Time vector\n",
        "t = np.linspace(0, T, fs*T, endpoint=False)\n",
        "\n",
        "# Signal definition\n",
        "s = np.sin(2 * np.pi * f1 * t) + np.sin(2 * np.pi * f2 * t)\n",
        "\n",
        "# Compute FFT\n",
        "S = np.fft.fft(s)\n",
        "# Compute frequencies\n",
        "frequencies = np.fft.fftfreq(len(S), 1/fs)\n",
        "\n",
        "# Only take the positive frequencies\n",
        "positive_frequencies = frequencies[:len(frequencies)//2]\n",
        "positive_S = np.abs(S[:len(S)//2])  # Magnitude of FFT\n",
        "\n",
        "# Plot the signal\n",
        "plt.figure(figsize=(12, 6))\n",
        "\n",
        "# Plot time domain signal\n",
        "plt.subplot(2, 1, 1)\n",
        "plt.plot(t, s)\n",
        "plt.title('Time Domain Signal')\n",
        "plt.xlabel('Time [s]')\n",
        "plt.ylabel('Amplitude')\n",
        "\n",
        "# Plot frequency domain signal\n",
        "plt.subplot(2, 1, 2)\n",
        "plt.plot(positive_frequencies, positive_S)\n",
        "plt.title('Frequency Domain Signal')\n",
        "plt.xlabel('Frequency [Hz]')\n",
        "plt.ylabel('Magnitude')\n",
        "plt.grid()\n",
        "plt.tight_layout()\n",
        "plt.show()"
      ],
      "metadata": {
        "id": "CINZt22x0FXu"
      },
      "execution_count": null,
      "outputs": []
    },
    {
      "cell_type": "code",
      "source": [
        "import numpy as np\n",
        "\n",
        "def gradient_descent(grad_f, initial_guess, learning_rate, num_iterations):\n",
        "    x, y = initial_guess\n",
        "    for _ in range(num_iterations):\n",
        "        grad_x, grad_y = grad_f(x, y)\n",
        "        x -= learning_rate * grad_x\n",
        "        y -= learning_rate * grad_y\n",
        "    return x, y\n",
        "\n",
        "def grad_f(x, y):\n",
        "    df_dx = 2*x - y + 1\n",
        "    df_dy = 2*y - x - 1\n",
        "    return np.array([df_dx, df_dy])\n",
        "\n",
        "# Initial guess\n",
        "initial_guess = (0, 0)\n",
        "# Learning rate\n",
        "learning_rate = 0.1\n",
        "# Number of iterations\n",
        "num_iterations = 100\n",
        "\n",
        "# Perform gradient descent\n",
        "min_x, min_y = gradient_descent(grad_f, initial_guess, learning_rate, num_iterations)\n",
        "print(f\"Minimum value found at x = {min_x}, y = {min_y}\")"
      ],
      "metadata": {
        "id": "Bf0g58Qi0HHB"
      },
      "execution_count": null,
      "outputs": []
    },
    {
      "cell_type": "code",
      "source": [
        "import numpy as np\n",
        "import matplotlib.pyplot as plt\n",
        "\n",
        "# Define the data points\n",
        "x_points = np.array([1, 2, 3, 4])\n",
        "y_points = np.array([1, 4, 9, 16])\n",
        "\n",
        "def lagrange_interpolation(x_points, y_points, x):\n",
        "    \"\"\"\n",
        "    Perform Lagrange interpolation for the given data points.\n",
        "\n",
        "    Parameters:\n",
        "    x_points : array-like\n",
        "        The x coordinates of the data points.\n",
        "    y_points : array-like\n",
        "        The y coordinates of the data points.\n",
        "    x : float\n",
        "        The x value at which to evaluate the interpolating polynomial.\n",
        "\n",
        "    Returns:\n",
        "    float\n",
        "        The interpolated value at x.\n",
        "    \"\"\"\n",
        "    n = len(x_points)\n",
        "    total = 0\n",
        "    for i in range(n):\n",
        "        term = y_points[i]\n",
        "        for j in range(n):\n",
        "            if i != j:\n",
        "                term = term * (x - x_points[j]) / (x_points[i] - x_points[j])\n",
        "        total += term\n",
        "    return total\n",
        "\n",
        "# Define the x values for plotting the polynomial\n",
        "x_values = np.linspace(1, 4, 100)\n",
        "y_values = [lagrange_interpolation(x_points, y_points, x) for x in x_values]\n",
        "\n",
        "# Plot the data points and the interpolating polynomial\n",
        "plt.plot(x_points, y_points, 'o', label='Data points')\n",
        "plt.plot(x_values, y_values, label='Lagrange polynomial')\n",
        "plt.xlabel('x')\n",
        "plt.ylabel('y')\n",
        "plt.title('Lagrange Polynomial Interpolation')\n",
        "plt.legend()\n",
        "plt.grid(True)\n",
        "plt.show()"
      ],
      "metadata": {
        "id": "paU7Kjaw0UiJ"
      },
      "execution_count": null,
      "outputs": []
    }
  ]
}